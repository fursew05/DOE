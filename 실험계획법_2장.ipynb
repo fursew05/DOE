{
  "nbformat": 4,
  "nbformat_minor": 0,
  "metadata": {
    "colab": {
      "provenance": [],
      "authorship_tag": "ABX9TyM5SBJDM9oQfjDl9pPRBv23",
      "include_colab_link": true
    },
    "kernelspec": {
      "name": "python3",
      "display_name": "Python 3"
    },
    "language_info": {
      "name": "python"
    }
  },
  "cells": [
    {
      "cell_type": "markdown",
      "metadata": {
        "id": "view-in-github",
        "colab_type": "text"
      },
      "source": [
        "<a href=\"https://colab.research.google.com/github/fursew05/DOE/blob/main/%EC%8B%A4%ED%97%98%EA%B3%84%ED%9A%8D%EB%B2%95_2%EC%9E%A5.ipynb\" target=\"_parent\"><img src=\"https://colab.research.google.com/assets/colab-badge.svg\" alt=\"Open In Colab\"/></a>"
      ]
    },
    {
      "cell_type": "code",
      "source": [
        "!pip install scikit_posthocs"
      ],
      "metadata": {
        "colab": {
          "base_uri": "https://localhost:8080/"
        },
        "id": "yZ_6iL0MsffP",
        "outputId": "87d9a274-a641-4216-9d8b-528c792b955b"
      },
      "execution_count": null,
      "outputs": [
        {
          "output_type": "stream",
          "name": "stdout",
          "text": [
            "Collecting scikit_posthocs\n",
            "  Downloading scikit_posthocs-0.11.4-py3-none-any.whl.metadata (5.8 kB)\n",
            "Requirement already satisfied: numpy in /usr/local/lib/python3.12/dist-packages (from scikit_posthocs) (2.0.2)\n",
            "Requirement already satisfied: scipy>=1.9.0 in /usr/local/lib/python3.12/dist-packages (from scikit_posthocs) (1.16.1)\n",
            "Requirement already satisfied: statsmodels in /usr/local/lib/python3.12/dist-packages (from scikit_posthocs) (0.14.5)\n",
            "Requirement already satisfied: pandas>=0.20.0 in /usr/local/lib/python3.12/dist-packages (from scikit_posthocs) (2.2.2)\n",
            "Requirement already satisfied: seaborn in /usr/local/lib/python3.12/dist-packages (from scikit_posthocs) (0.13.2)\n",
            "Requirement already satisfied: matplotlib in /usr/local/lib/python3.12/dist-packages (from scikit_posthocs) (3.10.0)\n",
            "Requirement already satisfied: python-dateutil>=2.8.2 in /usr/local/lib/python3.12/dist-packages (from pandas>=0.20.0->scikit_posthocs) (2.9.0.post0)\n",
            "Requirement already satisfied: pytz>=2020.1 in /usr/local/lib/python3.12/dist-packages (from pandas>=0.20.0->scikit_posthocs) (2025.2)\n",
            "Requirement already satisfied: tzdata>=2022.7 in /usr/local/lib/python3.12/dist-packages (from pandas>=0.20.0->scikit_posthocs) (2025.2)\n",
            "Requirement already satisfied: contourpy>=1.0.1 in /usr/local/lib/python3.12/dist-packages (from matplotlib->scikit_posthocs) (1.3.3)\n",
            "Requirement already satisfied: cycler>=0.10 in /usr/local/lib/python3.12/dist-packages (from matplotlib->scikit_posthocs) (0.12.1)\n",
            "Requirement already satisfied: fonttools>=4.22.0 in /usr/local/lib/python3.12/dist-packages (from matplotlib->scikit_posthocs) (4.59.2)\n",
            "Requirement already satisfied: kiwisolver>=1.3.1 in /usr/local/lib/python3.12/dist-packages (from matplotlib->scikit_posthocs) (1.4.9)\n",
            "Requirement already satisfied: packaging>=20.0 in /usr/local/lib/python3.12/dist-packages (from matplotlib->scikit_posthocs) (25.0)\n",
            "Requirement already satisfied: pillow>=8 in /usr/local/lib/python3.12/dist-packages (from matplotlib->scikit_posthocs) (11.3.0)\n",
            "Requirement already satisfied: pyparsing>=2.3.1 in /usr/local/lib/python3.12/dist-packages (from matplotlib->scikit_posthocs) (3.2.3)\n",
            "Requirement already satisfied: patsy>=0.5.6 in /usr/local/lib/python3.12/dist-packages (from statsmodels->scikit_posthocs) (1.0.1)\n",
            "Requirement already satisfied: six>=1.5 in /usr/local/lib/python3.12/dist-packages (from python-dateutil>=2.8.2->pandas>=0.20.0->scikit_posthocs) (1.17.0)\n",
            "Downloading scikit_posthocs-0.11.4-py3-none-any.whl (33 kB)\n",
            "Installing collected packages: scikit_posthocs\n",
            "Successfully installed scikit_posthocs-0.11.4\n"
          ]
        }
      ]
    },
    {
      "cell_type": "markdown",
      "source": [
        "# 2장 Experiment with a Single Factor\n",
        "\n",
        "## CRD(Completely Randomized Design)\n",
        "- 두 집단의 평균을 비교하기 위해서 CRD를 가정해야함\n",
        "\n",
        "- CRD란?\n",
        "실험단위들의 각 처리 그룹 배치와 실험 순서를 랜덤으로 정하여 실험을 설계하는 방법을 말한다.\n",
        "\n",
        "  $y_{ij} = \\mu + \\tau_i + \\varepsilon_{ij}, \\quad \\sum_{i=1}^{t}\\tau_i=0$"
      ],
      "metadata": {
        "id": "6nn9K5qyG0z4"
      }
    },
    {
      "cell_type": "markdown",
      "source": [
        "## 일원배치 분산분석\n",
        "CRD에서 고려하는 요인이 한가지인 경우에 사용하는 분산분석 방법이다.\n",
        "예를 들어 어떤 모터의 수명을 종속변수로 두었을때 배터리의 종류가 2가지인 경우에는 t-test를 사용하면 되지만, 종류가 3가지 즉 3개 이상의\n",
        "집단의 평균을 비교하는 경우 분산분석을 진행하게 된다.\n",
        "\n",
        "이때 실험하게 되는 횟수는 요인의 level 수 * 샘플의 수가 된다\n",
        "배터리 종류 3개에 대해서 모터의 수명시간을 10번씩 측정한다면 30회 실험 진행"
      ],
      "metadata": {
        "id": "Q4QgR2DwG6oo"
      }
    },
    {
      "cell_type": "code",
      "execution_count": null,
      "metadata": {
        "colab": {
          "base_uri": "https://localhost:8080/",
          "height": 206
        },
        "id": "O8Ct_zPuGvW3",
        "outputId": "1d33f5e6-55af-4d66-c0a2-fbeb21e728d5"
      },
      "outputs": [
        {
          "output_type": "execute_result",
          "data": {
            "text/plain": [
              "                    mpg  cyl   disp   hp  drat     wt   qsec  vs  am  gear  \\\n",
              "Mazda RX4          21.0    6  160.0  110  3.90  2.620  16.46   0   1     4   \n",
              "Mazda RX4 Wag      21.0    6  160.0  110  3.90  2.875  17.02   0   1     4   \n",
              "Datsun 710         22.8    4  108.0   93  3.85  2.320  18.61   1   1     4   \n",
              "Hornet 4 Drive     21.4    6  258.0  110  3.08  3.215  19.44   1   0     3   \n",
              "Hornet Sportabout  18.7    8  360.0  175  3.15  3.440  17.02   0   0     3   \n",
              "\n",
              "                   carb  \n",
              "Mazda RX4             4  \n",
              "Mazda RX4 Wag         4  \n",
              "Datsun 710            1  \n",
              "Hornet 4 Drive        1  \n",
              "Hornet Sportabout     2  "
            ],
            "text/html": [
              "\n",
              "  <div id=\"df-249c05b2-3a3c-4a2b-a12c-cc8f458a93d0\" class=\"colab-df-container\">\n",
              "    <div>\n",
              "<style scoped>\n",
              "    .dataframe tbody tr th:only-of-type {\n",
              "        vertical-align: middle;\n",
              "    }\n",
              "\n",
              "    .dataframe tbody tr th {\n",
              "        vertical-align: top;\n",
              "    }\n",
              "\n",
              "    .dataframe thead th {\n",
              "        text-align: right;\n",
              "    }\n",
              "</style>\n",
              "<table border=\"1\" class=\"dataframe\">\n",
              "  <thead>\n",
              "    <tr style=\"text-align: right;\">\n",
              "      <th></th>\n",
              "      <th>mpg</th>\n",
              "      <th>cyl</th>\n",
              "      <th>disp</th>\n",
              "      <th>hp</th>\n",
              "      <th>drat</th>\n",
              "      <th>wt</th>\n",
              "      <th>qsec</th>\n",
              "      <th>vs</th>\n",
              "      <th>am</th>\n",
              "      <th>gear</th>\n",
              "      <th>carb</th>\n",
              "    </tr>\n",
              "  </thead>\n",
              "  <tbody>\n",
              "    <tr>\n",
              "      <th>Mazda RX4</th>\n",
              "      <td>21.0</td>\n",
              "      <td>6</td>\n",
              "      <td>160.0</td>\n",
              "      <td>110</td>\n",
              "      <td>3.90</td>\n",
              "      <td>2.620</td>\n",
              "      <td>16.46</td>\n",
              "      <td>0</td>\n",
              "      <td>1</td>\n",
              "      <td>4</td>\n",
              "      <td>4</td>\n",
              "    </tr>\n",
              "    <tr>\n",
              "      <th>Mazda RX4 Wag</th>\n",
              "      <td>21.0</td>\n",
              "      <td>6</td>\n",
              "      <td>160.0</td>\n",
              "      <td>110</td>\n",
              "      <td>3.90</td>\n",
              "      <td>2.875</td>\n",
              "      <td>17.02</td>\n",
              "      <td>0</td>\n",
              "      <td>1</td>\n",
              "      <td>4</td>\n",
              "      <td>4</td>\n",
              "    </tr>\n",
              "    <tr>\n",
              "      <th>Datsun 710</th>\n",
              "      <td>22.8</td>\n",
              "      <td>4</td>\n",
              "      <td>108.0</td>\n",
              "      <td>93</td>\n",
              "      <td>3.85</td>\n",
              "      <td>2.320</td>\n",
              "      <td>18.61</td>\n",
              "      <td>1</td>\n",
              "      <td>1</td>\n",
              "      <td>4</td>\n",
              "      <td>1</td>\n",
              "    </tr>\n",
              "    <tr>\n",
              "      <th>Hornet 4 Drive</th>\n",
              "      <td>21.4</td>\n",
              "      <td>6</td>\n",
              "      <td>258.0</td>\n",
              "      <td>110</td>\n",
              "      <td>3.08</td>\n",
              "      <td>3.215</td>\n",
              "      <td>19.44</td>\n",
              "      <td>1</td>\n",
              "      <td>0</td>\n",
              "      <td>3</td>\n",
              "      <td>1</td>\n",
              "    </tr>\n",
              "    <tr>\n",
              "      <th>Hornet Sportabout</th>\n",
              "      <td>18.7</td>\n",
              "      <td>8</td>\n",
              "      <td>360.0</td>\n",
              "      <td>175</td>\n",
              "      <td>3.15</td>\n",
              "      <td>3.440</td>\n",
              "      <td>17.02</td>\n",
              "      <td>0</td>\n",
              "      <td>0</td>\n",
              "      <td>3</td>\n",
              "      <td>2</td>\n",
              "    </tr>\n",
              "  </tbody>\n",
              "</table>\n",
              "</div>\n",
              "    <div class=\"colab-df-buttons\">\n",
              "\n",
              "  <div class=\"colab-df-container\">\n",
              "    <button class=\"colab-df-convert\" onclick=\"convertToInteractive('df-249c05b2-3a3c-4a2b-a12c-cc8f458a93d0')\"\n",
              "            title=\"Convert this dataframe to an interactive table.\"\n",
              "            style=\"display:none;\">\n",
              "\n",
              "  <svg xmlns=\"http://www.w3.org/2000/svg\" height=\"24px\" viewBox=\"0 -960 960 960\">\n",
              "    <path d=\"M120-120v-720h720v720H120Zm60-500h600v-160H180v160Zm220 220h160v-160H400v160Zm0 220h160v-160H400v160ZM180-400h160v-160H180v160Zm440 0h160v-160H620v160ZM180-180h160v-160H180v160Zm440 0h160v-160H620v160Z\"/>\n",
              "  </svg>\n",
              "    </button>\n",
              "\n",
              "  <style>\n",
              "    .colab-df-container {\n",
              "      display:flex;\n",
              "      gap: 12px;\n",
              "    }\n",
              "\n",
              "    .colab-df-convert {\n",
              "      background-color: #E8F0FE;\n",
              "      border: none;\n",
              "      border-radius: 50%;\n",
              "      cursor: pointer;\n",
              "      display: none;\n",
              "      fill: #1967D2;\n",
              "      height: 32px;\n",
              "      padding: 0 0 0 0;\n",
              "      width: 32px;\n",
              "    }\n",
              "\n",
              "    .colab-df-convert:hover {\n",
              "      background-color: #E2EBFA;\n",
              "      box-shadow: 0px 1px 2px rgba(60, 64, 67, 0.3), 0px 1px 3px 1px rgba(60, 64, 67, 0.15);\n",
              "      fill: #174EA6;\n",
              "    }\n",
              "\n",
              "    .colab-df-buttons div {\n",
              "      margin-bottom: 4px;\n",
              "    }\n",
              "\n",
              "    [theme=dark] .colab-df-convert {\n",
              "      background-color: #3B4455;\n",
              "      fill: #D2E3FC;\n",
              "    }\n",
              "\n",
              "    [theme=dark] .colab-df-convert:hover {\n",
              "      background-color: #434B5C;\n",
              "      box-shadow: 0px 1px 3px 1px rgba(0, 0, 0, 0.15);\n",
              "      filter: drop-shadow(0px 1px 2px rgba(0, 0, 0, 0.3));\n",
              "      fill: #FFFFFF;\n",
              "    }\n",
              "  </style>\n",
              "\n",
              "    <script>\n",
              "      const buttonEl =\n",
              "        document.querySelector('#df-249c05b2-3a3c-4a2b-a12c-cc8f458a93d0 button.colab-df-convert');\n",
              "      buttonEl.style.display =\n",
              "        google.colab.kernel.accessAllowed ? 'block' : 'none';\n",
              "\n",
              "      async function convertToInteractive(key) {\n",
              "        const element = document.querySelector('#df-249c05b2-3a3c-4a2b-a12c-cc8f458a93d0');\n",
              "        const dataTable =\n",
              "          await google.colab.kernel.invokeFunction('convertToInteractive',\n",
              "                                                    [key], {});\n",
              "        if (!dataTable) return;\n",
              "\n",
              "        const docLinkHtml = 'Like what you see? Visit the ' +\n",
              "          '<a target=\"_blank\" href=https://colab.research.google.com/notebooks/data_table.ipynb>data table notebook</a>'\n",
              "          + ' to learn more about interactive tables.';\n",
              "        element.innerHTML = '';\n",
              "        dataTable['output_type'] = 'display_data';\n",
              "        await google.colab.output.renderOutput(dataTable, element);\n",
              "        const docLink = document.createElement('div');\n",
              "        docLink.innerHTML = docLinkHtml;\n",
              "        element.appendChild(docLink);\n",
              "      }\n",
              "    </script>\n",
              "  </div>\n",
              "\n",
              "\n",
              "    <div id=\"df-372a524c-88c4-4048-8fdf-8923f7e1cbb2\">\n",
              "      <button class=\"colab-df-quickchart\" onclick=\"quickchart('df-372a524c-88c4-4048-8fdf-8923f7e1cbb2')\"\n",
              "                title=\"Suggest charts\"\n",
              "                style=\"display:none;\">\n",
              "\n",
              "<svg xmlns=\"http://www.w3.org/2000/svg\" height=\"24px\"viewBox=\"0 0 24 24\"\n",
              "     width=\"24px\">\n",
              "    <g>\n",
              "        <path d=\"M19 3H5c-1.1 0-2 .9-2 2v14c0 1.1.9 2 2 2h14c1.1 0 2-.9 2-2V5c0-1.1-.9-2-2-2zM9 17H7v-7h2v7zm4 0h-2V7h2v10zm4 0h-2v-4h2v4z\"/>\n",
              "    </g>\n",
              "</svg>\n",
              "      </button>\n",
              "\n",
              "<style>\n",
              "  .colab-df-quickchart {\n",
              "      --bg-color: #E8F0FE;\n",
              "      --fill-color: #1967D2;\n",
              "      --hover-bg-color: #E2EBFA;\n",
              "      --hover-fill-color: #174EA6;\n",
              "      --disabled-fill-color: #AAA;\n",
              "      --disabled-bg-color: #DDD;\n",
              "  }\n",
              "\n",
              "  [theme=dark] .colab-df-quickchart {\n",
              "      --bg-color: #3B4455;\n",
              "      --fill-color: #D2E3FC;\n",
              "      --hover-bg-color: #434B5C;\n",
              "      --hover-fill-color: #FFFFFF;\n",
              "      --disabled-bg-color: #3B4455;\n",
              "      --disabled-fill-color: #666;\n",
              "  }\n",
              "\n",
              "  .colab-df-quickchart {\n",
              "    background-color: var(--bg-color);\n",
              "    border: none;\n",
              "    border-radius: 50%;\n",
              "    cursor: pointer;\n",
              "    display: none;\n",
              "    fill: var(--fill-color);\n",
              "    height: 32px;\n",
              "    padding: 0;\n",
              "    width: 32px;\n",
              "  }\n",
              "\n",
              "  .colab-df-quickchart:hover {\n",
              "    background-color: var(--hover-bg-color);\n",
              "    box-shadow: 0 1px 2px rgba(60, 64, 67, 0.3), 0 1px 3px 1px rgba(60, 64, 67, 0.15);\n",
              "    fill: var(--button-hover-fill-color);\n",
              "  }\n",
              "\n",
              "  .colab-df-quickchart-complete:disabled,\n",
              "  .colab-df-quickchart-complete:disabled:hover {\n",
              "    background-color: var(--disabled-bg-color);\n",
              "    fill: var(--disabled-fill-color);\n",
              "    box-shadow: none;\n",
              "  }\n",
              "\n",
              "  .colab-df-spinner {\n",
              "    border: 2px solid var(--fill-color);\n",
              "    border-color: transparent;\n",
              "    border-bottom-color: var(--fill-color);\n",
              "    animation:\n",
              "      spin 1s steps(1) infinite;\n",
              "  }\n",
              "\n",
              "  @keyframes spin {\n",
              "    0% {\n",
              "      border-color: transparent;\n",
              "      border-bottom-color: var(--fill-color);\n",
              "      border-left-color: var(--fill-color);\n",
              "    }\n",
              "    20% {\n",
              "      border-color: transparent;\n",
              "      border-left-color: var(--fill-color);\n",
              "      border-top-color: var(--fill-color);\n",
              "    }\n",
              "    30% {\n",
              "      border-color: transparent;\n",
              "      border-left-color: var(--fill-color);\n",
              "      border-top-color: var(--fill-color);\n",
              "      border-right-color: var(--fill-color);\n",
              "    }\n",
              "    40% {\n",
              "      border-color: transparent;\n",
              "      border-right-color: var(--fill-color);\n",
              "      border-top-color: var(--fill-color);\n",
              "    }\n",
              "    60% {\n",
              "      border-color: transparent;\n",
              "      border-right-color: var(--fill-color);\n",
              "    }\n",
              "    80% {\n",
              "      border-color: transparent;\n",
              "      border-right-color: var(--fill-color);\n",
              "      border-bottom-color: var(--fill-color);\n",
              "    }\n",
              "    90% {\n",
              "      border-color: transparent;\n",
              "      border-bottom-color: var(--fill-color);\n",
              "    }\n",
              "  }\n",
              "</style>\n",
              "\n",
              "      <script>\n",
              "        async function quickchart(key) {\n",
              "          const quickchartButtonEl =\n",
              "            document.querySelector('#' + key + ' button');\n",
              "          quickchartButtonEl.disabled = true;  // To prevent multiple clicks.\n",
              "          quickchartButtonEl.classList.add('colab-df-spinner');\n",
              "          try {\n",
              "            const charts = await google.colab.kernel.invokeFunction(\n",
              "                'suggestCharts', [key], {});\n",
              "          } catch (error) {\n",
              "            console.error('Error during call to suggestCharts:', error);\n",
              "          }\n",
              "          quickchartButtonEl.classList.remove('colab-df-spinner');\n",
              "          quickchartButtonEl.classList.add('colab-df-quickchart-complete');\n",
              "        }\n",
              "        (() => {\n",
              "          let quickchartButtonEl =\n",
              "            document.querySelector('#df-372a524c-88c4-4048-8fdf-8923f7e1cbb2 button');\n",
              "          quickchartButtonEl.style.display =\n",
              "            google.colab.kernel.accessAllowed ? 'block' : 'none';\n",
              "        })();\n",
              "      </script>\n",
              "    </div>\n",
              "\n",
              "    </div>\n",
              "  </div>\n"
            ],
            "application/vnd.google.colaboratory.intrinsic+json": {
              "type": "dataframe",
              "variable_name": "df",
              "summary": "{\n  \"name\": \"df\",\n  \"rows\": 32,\n  \"fields\": [\n    {\n      \"column\": \"mpg\",\n      \"properties\": {\n        \"dtype\": \"number\",\n        \"std\": 6.026948052089105,\n        \"min\": 10.4,\n        \"max\": 33.9,\n        \"num_unique_values\": 25,\n        \"samples\": [\n          17.8,\n          33.9,\n          21.0\n        ],\n        \"semantic_type\": \"\",\n        \"description\": \"\"\n      }\n    },\n    {\n      \"column\": \"cyl\",\n      \"properties\": {\n        \"dtype\": \"number\",\n        \"std\": 1,\n        \"min\": 4,\n        \"max\": 8,\n        \"num_unique_values\": 3,\n        \"samples\": [\n          6,\n          4,\n          8\n        ],\n        \"semantic_type\": \"\",\n        \"description\": \"\"\n      }\n    },\n    {\n      \"column\": \"disp\",\n      \"properties\": {\n        \"dtype\": \"number\",\n        \"std\": 123.93869383138194,\n        \"min\": 71.1,\n        \"max\": 472.0,\n        \"num_unique_values\": 27,\n        \"samples\": [\n          275.8,\n          75.7,\n          472.0\n        ],\n        \"semantic_type\": \"\",\n        \"description\": \"\"\n      }\n    },\n    {\n      \"column\": \"hp\",\n      \"properties\": {\n        \"dtype\": \"number\",\n        \"std\": 68,\n        \"min\": 52,\n        \"max\": 335,\n        \"num_unique_values\": 22,\n        \"samples\": [\n          110,\n          52,\n          180\n        ],\n        \"semantic_type\": \"\",\n        \"description\": \"\"\n      }\n    },\n    {\n      \"column\": \"drat\",\n      \"properties\": {\n        \"dtype\": \"number\",\n        \"std\": 0.5346787360709716,\n        \"min\": 2.76,\n        \"max\": 4.93,\n        \"num_unique_values\": 22,\n        \"samples\": [\n          3.9,\n          4.93,\n          3.07\n        ],\n        \"semantic_type\": \"\",\n        \"description\": \"\"\n      }\n    },\n    {\n      \"column\": \"wt\",\n      \"properties\": {\n        \"dtype\": \"number\",\n        \"std\": 0.9784574429896967,\n        \"min\": 1.513,\n        \"max\": 5.424,\n        \"num_unique_values\": 29,\n        \"samples\": [\n          2.77,\n          1.615,\n          5.25\n        ],\n        \"semantic_type\": \"\",\n        \"description\": \"\"\n      }\n    },\n    {\n      \"column\": \"qsec\",\n      \"properties\": {\n        \"dtype\": \"number\",\n        \"std\": 1.7869432360968431,\n        \"min\": 14.5,\n        \"max\": 22.9,\n        \"num_unique_values\": 30,\n        \"samples\": [\n          15.5,\n          17.42,\n          17.05\n        ],\n        \"semantic_type\": \"\",\n        \"description\": \"\"\n      }\n    },\n    {\n      \"column\": \"vs\",\n      \"properties\": {\n        \"dtype\": \"number\",\n        \"std\": 0,\n        \"min\": 0,\n        \"max\": 1,\n        \"num_unique_values\": 2,\n        \"samples\": [\n          1,\n          0\n        ],\n        \"semantic_type\": \"\",\n        \"description\": \"\"\n      }\n    },\n    {\n      \"column\": \"am\",\n      \"properties\": {\n        \"dtype\": \"number\",\n        \"std\": 0,\n        \"min\": 0,\n        \"max\": 1,\n        \"num_unique_values\": 2,\n        \"samples\": [\n          0,\n          1\n        ],\n        \"semantic_type\": \"\",\n        \"description\": \"\"\n      }\n    },\n    {\n      \"column\": \"gear\",\n      \"properties\": {\n        \"dtype\": \"number\",\n        \"std\": 0,\n        \"min\": 3,\n        \"max\": 5,\n        \"num_unique_values\": 3,\n        \"samples\": [\n          4,\n          3\n        ],\n        \"semantic_type\": \"\",\n        \"description\": \"\"\n      }\n    },\n    {\n      \"column\": \"carb\",\n      \"properties\": {\n        \"dtype\": \"number\",\n        \"std\": 1,\n        \"min\": 1,\n        \"max\": 8,\n        \"num_unique_values\": 6,\n        \"samples\": [\n          4,\n          1\n        ],\n        \"semantic_type\": \"\",\n        \"description\": \"\"\n      }\n    }\n  ]\n}"
            }
          },
          "metadata": {},
          "execution_count": 1
        }
      ],
      "source": [
        "import pandas as pd\n",
        "\n",
        "df = pd.read_csv('/content/sample_data/mtcars.csv',index_col=0)\n",
        "df.head()"
      ]
    },
    {
      "cell_type": "code",
      "source": [
        "# t-test : gear가 3과 4인 집단의 disp 평균을 비교하고 싶은 경우 ttest_ind 함수 활용\n",
        "from scipy.stats import ttest_ind\n",
        "gear_3 = df[df['gear']==3]['disp']\n",
        "gear_4 = df[df['gear']==4]['disp']\n",
        "\n",
        "result = ttest_ind(gear_3,gear_4)\n",
        "print(f\"t통계량 : {result[0]}\")\n",
        "print(f\"p값 : {result[1]}\")"
      ],
      "metadata": {
        "colab": {
          "base_uri": "https://localhost:8080/"
        },
        "id": "eWn5aC7yHCtY",
        "outputId": "4b4e8000-5773-4e02-d077-abfb2a1637d4"
      },
      "execution_count": null,
      "outputs": [
        {
          "output_type": "stream",
          "name": "stdout",
          "text": [
            "t통계량 : 6.949417317275277\n",
            "p값 : 2.767535093193568e-07\n"
          ]
        }
      ]
    },
    {
      "cell_type": "markdown",
      "source": [
        "유의수준 5%에서 귀무가설을 기각할 수 있어 gear_3와 gear_4의\n",
        "평균의 차이가 있다는 것을 알 수 있음\n",
        "\n",
        "- 귀무가설 : 집단 간 평균의 차이가 없다\n",
        "- 대립가설 : 집단 간 평균의 차이가 있다"
      ],
      "metadata": {
        "id": "8Y3dPppgHGvs"
      }
    },
    {
      "cell_type": "markdown",
      "source": [
        "- 일원분산분석을 하는 경우 다음의 사전검정이 필요함\n",
        "\n",
        "\n",
        "1.   정규성 확인 : 변수의 왜도 값이 절댓값 2를 넘지 않는지 확인\n",
        "2.   등분산 검정(bartlett test 또는 levene test) : H0는 변수 간 분산의 차이가 없다\n"
      ],
      "metadata": {
        "id": "lRBNszqKHHW9"
      }
    },
    {
      "cell_type": "code",
      "source": [
        "# One way ANOVA : gear가 3,4,5 세 집단의 disp 평균을 비교하고 싶은 경우\n",
        "from scipy.stats import skew, bartlett\n",
        "\n",
        "# 정규성 확인\n",
        "gear_5 = df[df['gear']==5]['disp']\n",
        "\n",
        "normality_result_gear_3 = skew(gear_3)\n",
        "normality_result_gear_4 = skew(gear_4)\n",
        "normality_result_gear_5 = skew(gear_5)\n",
        "\n",
        "print(f\"gear_3의 왜도 : {normality_result_gear_3}\")\n",
        "print(f\"gear_4의 왜도 : {normality_result_gear_4}\")\n",
        "print(f\"gear_5의 왜도 : {normality_result_gear_5}\")\n",
        "\n",
        "#등분산성 확인\n",
        "bartlett_result = bartlett(gear_3,gear_4,gear_5)\n",
        "print(f\"등분산 검정의 p값 : {bartlett_result[1]}\")"
      ],
      "metadata": {
        "colab": {
          "base_uri": "https://localhost:8080/"
        },
        "id": "KRUicaZdHEfd",
        "outputId": "8725137d-1cc2-4e41-bfde-7491495f1907"
      },
      "execution_count": null,
      "outputs": [
        {
          "output_type": "stream",
          "name": "stdout",
          "text": [
            "gear_3의 왜도 : -0.2668791892901188\n",
            "gear_4의 왜도 : -0.2003117299768987\n",
            "gear_5의 왜도 : 0.40812918060558423\n",
            "등분산 검정의 p값 : 0.010299628043890017\n"
          ]
        }
      ]
    },
    {
      "cell_type": "code",
      "source": [
        "# 일원배치 분산분석 : F 통계량을 통하여 검정진행\n",
        "# 귀무가설 : 기어 개수에 따른 배기량 평균의 차이가 없다\n",
        "# 대립가설 : 기어 개수에 따른 배기량 평균의 차이가 존재한다.\n",
        "\n",
        "# 방법 1 : f_oneway\n",
        "from scipy.stats import f_oneway\n",
        "result = f_oneway(gear_3,gear_4,gear_5)\n",
        "if result[1] < 0.05:\n",
        "  print(\"귀무가설 기각\")\n",
        "else:\n",
        "  print(\"귀무가설을 기각할 수 없음\")"
      ],
      "metadata": {
        "colab": {
          "base_uri": "https://localhost:8080/"
        },
        "id": "_odRUhfkHNY-",
        "outputId": "7ba7d236-a4be-40fa-abcc-5912d494ee2a"
      },
      "execution_count": null,
      "outputs": [
        {
          "output_type": "stream",
          "name": "stdout",
          "text": [
            "귀무가설 기각\n"
          ]
        }
      ]
    },
    {
      "cell_type": "code",
      "source": [
        "# 방법 2: ols 활용하여 anova 테이블 만들기\n",
        "from statsmodels.formula.api import ols\n",
        "from statsmodels.stats.anova import anova_lm\n",
        "\n",
        "# ols 함수 안에는 '종속변수 이름 ~ 설명변수 이름', 데이터프레임 두가지를 넣으면 됨\n",
        "# 설명변수가 범주형일때에는 C(변수명) 형식으로 넣어야 함\n",
        "model = ols('disp ~ C(gear)', df).fit()\n",
        "anova_result = anova_lm(model)\n",
        "\n",
        "print(anova_result)\n",
        "if anova_result['PR(>F)'].iloc[0] < 0.05:\n",
        "  print(\"귀무가설 기각\")\n",
        "else:\n",
        "  print(\"귀무가설을 기각할 수 없음\")"
      ],
      "metadata": {
        "colab": {
          "base_uri": "https://localhost:8080/"
        },
        "id": "3QB8RBQMHOyw",
        "outputId": "91dcde23-2c56-4336-dcc7-5642c1f83d2e"
      },
      "execution_count": null,
      "outputs": [
        {
          "output_type": "stream",
          "name": "stdout",
          "text": [
            "            df         sum_sq        mean_sq          F    PR(>F)\n",
            "C(gear)    2.0  280220.630021  140110.315010  20.734399  0.000003\n",
            "Residual  29.0  195964.164667    6757.384989        NaN       NaN\n",
            "귀무가설 기각\n"
          ]
        }
      ]
    },
    {
      "cell_type": "markdown",
      "source": [
        "- p값이 정해놓은 유의수준보다 작은 경우 귀무가설을 기각할 수 있게 됨\n",
        "\n",
        "  따라서 gear 별로 disp의 평균에 통계적으로 유의미한 차이가 있다는 것을 알 수 있음\n",
        "\n",
        "  하지만 어느 집단에서 배기량이 차이를 보이고 있는지는 알 수가 없음\n",
        "  \n",
        "  그렇기 때문에 **사후검정**를 통하여 정확한 결과를 도출해야함"
      ],
      "metadata": {
        "id": "FezHrQrbIEp8"
      }
    },
    {
      "cell_type": "markdown",
      "source": [
        "## Contrasts\n",
        "위에서 진행한 방법은 일원배치 분산분석 중 global test로 한가지 요인에 대해서\n",
        "\n",
        "여러 집단의 평균 차이가 있다는 것은 알 수 있지만\n",
        "차이가 어디서 나타나는지는 알 수가 없음.\n",
        "\n",
        "Contrasts는 평균 벡터와 선형결합을 하게되는 벡터를 말한다\n",
        "두 집단의 자료의 양이 같은 경우에는 **contrast의 합이 0이 되도록** 실시하며,\n",
        "\n",
        "불균형의 경우에는 그룹별 자료의 수를 가중치로 두어 **가중치와 contrast의 내적이\n",
        "0이 되도록** 실시한다.\n",
        "\n",
        "$L = \\sum_{i=1}^{k} c_i \\mu_i, \\quad \\text{단, } \\sum_{i=1}^{k} c_i = 0$\n",
        "\n",
        "예시) 위에 예시에서 global F test를 진행했을때 차이가 있다는 것을 확인했지만\n",
        "어떤 집단에서 차이를 보이는지 알기위해서 기어가 3인 집단과 기어가 5인 집단의\n",
        "차이가 존재하는지 확인하고 싶음\n",
        "\n",
        "이때 벡터 C (1,0,-1)과 평균 벡터 (mu_3,mu_4,mu_5)간의 선형결합 값을 모수로 두어 가설 검정을 진행\n",
        "\n",
        "- 귀무가설 : 선형결합이 0이다\n",
        "- 대립가설 : 선형결합이 0이 아니다\n"
      ],
      "metadata": {
        "id": "nPCMdYYWHQdd"
      }
    },
    {
      "cell_type": "code",
      "source": [
        "# mu3-mu5 = 0인지 확인하는 예제\n",
        "from statsmodels.stats.contrast import Contrast\n",
        "import numpy as np\n",
        "\n",
        "model = ols('disp ~ C(gear)', data = df).fit()\n",
        "contrast_vector = np.array([1,0,-1])\n",
        "model.t_test(contrast_vector)"
      ],
      "metadata": {
        "colab": {
          "base_uri": "https://localhost:8080/"
        },
        "id": "ff6XPJa7HUui",
        "outputId": "add44ece-89bf-48ad-ec03-8b21448c051d"
      },
      "execution_count": null,
      "outputs": [
        {
          "output_type": "execute_result",
          "data": {
            "text/plain": [
              "<class 'statsmodels.stats.contrast.ContrastResults'>\n",
              "                             Test for Constraints                             \n",
              "==============================================================================\n",
              "                 coef    std err          t      P>|t|      [0.025      0.975]\n",
              "------------------------------------------------------------------------------\n",
              "c0           450.1200     56.156      8.016      0.000     335.269     564.971\n",
              "=============================================================================="
            ]
          },
          "metadata": {},
          "execution_count": 9
        }
      ]
    },
    {
      "cell_type": "markdown",
      "source": [
        "- p값이 매우 작은것으로 보아 기어3 집단과 기어5 집단 간 차이가 있다는 것을  확인할 수 있음"
      ],
      "metadata": {
        "id": "Ig8hyOPzdi2u"
      }
    },
    {
      "cell_type": "markdown",
      "source": [
        "# contrast의 경우에는 파이썬에서 지원하지 않어서 R을 사용했습니다."
      ],
      "metadata": {
        "id": "giC2LK5shpKw"
      }
    },
    {
      "cell_type": "code",
      "source": [
        "# orthogonal contrast : 서로 내적했을때 0이 되는 contrast들로 진행하여 다른 contrast가 영향을 주지 않도록 설계\n",
        "# 이러한 방식으로 설계하면 처리제곱합이 정확하게 나누어져 집단 간 명확한 차이를 확인할 수 있게 됨\n",
        "# contrast의 경우에는 파이썬에서 지원하는 패키지가 없어서 R을 사용했습니다.\n",
        "\n",
        "# 1. 데이터 준비\n",
        "data(mtcars)\n",
        "\n",
        "# 2. 설명변수를 범주형 데이터로 변환\n",
        "mtcars$gear <- factor(mtcars$gear)\n",
        "\n",
        "\n",
        "# 3. Contrast 정의\n",
        "contrast_matrix <- matrix(c(-2, 1, 1,  # 대비 1: 3단 vs (4단, 5단)의 평균\n",
        "                            0, -1, 1), # 대비 2: 4단 vs 5단\n",
        "                           ncol = 2)\n",
        "\n",
        "\n",
        "# 4. Factor에 Contrast 할당\n",
        "contrasts(mtcars$gear) <- contrast_matrix\n",
        "\n",
        "# 5. 모델 생성 및 최종 결과 확인\n",
        "model_lm <- aov(disp ~ gear, data = mtcars)\n",
        "\n",
        "# summary.aov() 함수로 분할된 ANOVA 테이블을 확인합니다.\n",
        "print(\"--- 분할된 최종 ANOVA 테이블 ---\")\n",
        "summary(model_lm,split=list(gear=list(\"trt1\"=1,\"trt2\"=2)))"
      ],
      "metadata": {
        "id": "3AjxhPafduDF",
        "colab": {
          "base_uri": "https://localhost:8080/",
          "height": 256
        },
        "outputId": "5362a46c-d0e6-4bf1-db95-d535f0b1cb8c"
      },
      "execution_count": null,
      "outputs": [
        {
          "output_type": "stream",
          "name": "stdout",
          "text": [
            "[1] \"--- gear 변수에 할당된 대비 확인 ---\"\n",
            "  [,1] [,2]\n",
            "3   -2    0\n",
            "4    1   -1\n",
            "5    1    1\n",
            "[1] \"--- 분할된 최종 ANOVA 테이블 ---\"\n"
          ]
        },
        {
          "output_type": "display_data",
          "data": {
            "text/plain": [
              "             Df Sum Sq Mean Sq F value   Pr(>F)    \n",
              "gear          2 280221  140110  20.734 2.56e-06 ***\n",
              "  gear: trt1  1 257934  257934  38.171 9.78e-07 ***\n",
              "  gear: trt2  1  22286   22286   3.298   0.0797 .  \n",
              "Residuals    29 195964    6757                     \n",
              "---\n",
              "Signif. codes:  0 ‘***’ 0.001 ‘**’ 0.01 ‘*’ 0.05 ‘.’ 0.1 ‘ ’ 1"
            ]
          },
          "metadata": {}
        }
      ]
    },
    {
      "cell_type": "markdown",
      "source": [
        "- 결과 해석\n",
        "\n",
        "1번째 검정 결과 유의수준 5%에서 귀무가설 기각\n",
        "따라서, 기어4와 기어5의 배기량 평균과 기어3의 배기량 평균 차이가 존재함\n",
        "\n",
        "2번째 검정 결과 유의수준 5%에서 귀무가설 기각하지 못함\n",
        "따라서, 기어4와 기어5의 배기량 평균에는 차이가 없음\n",
        "\n",
        "즉, 기어3이 기어4와 기어5와 다르게 배기량 차이가 있다는 결론을 내릴 수 있음"
      ],
      "metadata": {
        "id": "sDlPpjnsTItw"
      }
    },
    {
      "cell_type": "markdown",
      "source": [
        "## 여러 사후검정 방법들\n",
        "\n",
        "- 처리 방식 즉 집단이 3개 이상인 경우에는 모든 실험의 error rate를 고려해야함\n",
        "- 유의수준이 5%여도 집단이 15개여서 2개씩 비교하는 실험을 할 때 총 105번 실험을 해야하고 각각 유의수준을 5%로 두면 전체실험으로 봤을때에는 525%가 나옴\n",
        "- 이를 해결하는 방법으로 Bonferroni, Tukey, Sheffe, Dunnet의 방법이 있다"
      ],
      "metadata": {
        "id": "4asto3xlilXO"
      }
    },
    {
      "cell_type": "code",
      "source": [
        "#1. Bonferroni : 유의수준을 a로 두었을때 실험의 횟수만큼 나누어 유의수준을 두는 방법\n",
        "\n",
        "# ex) 유의수준 0.05일때, gear에 대한 다중 비교는 3번일어나므로 0.05/3 으로 유의수준을 보정하여 검정 진행"
      ],
      "metadata": {
        "id": "8_4IVDeTVemU"
      },
      "execution_count": null,
      "outputs": []
    },
    {
      "cell_type": "code",
      "source": [
        "#2. Tukey : 집단 간 표본수가 동일한 경우에 사용할 수 있는 사후 검정방법\n",
        "# 단, Tukey 검정은 집단 간 데이터 수가 동일해야 하고 데이터 수가 많을수록 신뢰도가 올라감\n",
        "from statsmodels.stats.multicomp import pairwise_tukeyhsd\n",
        "import numpy as np\n",
        "\n",
        "# 랜덤시드 고정\n",
        "np.random.seed(30)\n",
        "\n",
        "df2 = pd.DataFrame({\n",
        "    'grade':[1,1,1,1,1,1,1,1,1,1,2,2,2,2,2,2,2,2,2,2,3,3,3,3,3,3,3,3,3,3],\n",
        "    'score': np.random.randint(60,100,size=30)\n",
        "})\n",
        "\n",
        "# groups에는 설명변수, endog에는 종속변수, alpha에는 유의수준을 넣어주면 됨\n",
        "result = pairwise_tukeyhsd(groups = df2['grade'], endog = df2['score'], alpha = 0.05)\n",
        "print(\"-----------------Tukey test-------------------\")\n",
        "print(result)"
      ],
      "metadata": {
        "colab": {
          "base_uri": "https://localhost:8080/"
        },
        "id": "gI5eGDZLqchJ",
        "outputId": "dacc5675-acae-431f-d2ec-ff47b20a0210"
      },
      "execution_count": null,
      "outputs": [
        {
          "output_type": "stream",
          "name": "stdout",
          "text": [
            "-----------------Tuckey test-------------------\n",
            " Multiple Comparison of Means - Tukey HSD, FWER=0.05 \n",
            "=====================================================\n",
            "group1 group2 meandiff p-adj   lower    upper  reject\n",
            "-----------------------------------------------------\n",
            "     1      2     -1.3 0.9676 -14.4777 11.8777  False\n",
            "     1      3      7.9 0.3131  -5.2777 21.0777  False\n",
            "     2      3      9.2 0.2123  -3.9777 22.3777  False\n",
            "-----------------------------------------------------\n"
          ]
        }
      ]
    },
    {
      "cell_type": "code",
      "source": [
        "#3.Sheffe : 집단 간 데이터의 수가 다를 때 사용하는 방법\n",
        "from scikit_posthocs import posthoc_scheffe\n",
        "\n",
        "result = posthoc_scheffe(df,val_col='disp',group_col='gear')\n",
        "print(result)"
      ],
      "metadata": {
        "colab": {
          "base_uri": "https://localhost:8080/"
        },
        "id": "fMaMUL30qiL-",
        "outputId": "c54647df-e51f-4c0a-9f51-605da171ea28"
      },
      "execution_count": null,
      "outputs": [
        {
          "output_type": "stream",
          "name": "stdout",
          "text": [
            "          4         3         5\n",
            "4  1.000000  0.000003  0.209756\n",
            "3  0.000003  1.000000  0.023986\n",
            "5  0.209756  0.023986  1.000000\n"
          ]
        }
      ]
    },
    {
      "cell_type": "markdown",
      "source": [
        "- 결과 해석\n",
        "보여지는 행렬의 원소는 두 집단의 disp 평균이 같은지 Sheffe의 검정을 진행 했을때 p_value임. 정해놓은 유의수준과 비교해서 p_value가 더 작으면 평균이 같다는 것을 기각할 수 있게 됨\n",
        "\n",
        "\n",
        "1.   3단 기어와 4단 기어는 배기량 차이가 존재하고(0.0000003 < 0.05)\n",
        "2.   3단 기어와 5단 기어는 배기량 차이가 존재하고(0.023986 < 0.05)\n",
        "3.   4단 기어와 5단 기어는 배기량 차이가 없다.(0.209756 > 0.05)"
      ],
      "metadata": {
        "id": "DBeBdqYDs5vK"
      }
    },
    {
      "cell_type": "code",
      "source": [
        "#4.Dunnet : 실험군과 대조군간의 사후 검정에 사용됨\n",
        "from scikit_posthocs import posthoc_dunnett\n",
        "\n",
        "result = posthoc_dunnett(df,val_col='disp',group_col='gear',control = 3)\n",
        "print(result)"
      ],
      "metadata": {
        "colab": {
          "base_uri": "https://localhost:8080/"
        },
        "id": "mMhgPE-xtyJQ",
        "outputId": "d4de209e-12a8-416c-f15c-cca6d68dbb3b"
      },
      "execution_count": null,
      "outputs": [
        {
          "output_type": "stream",
          "name": "stdout",
          "text": [
            "          4         3         5\n",
            "4       NaN  0.000001       NaN\n",
            "3  0.000001       1.0  0.013139\n",
            "5       NaN  0.013139       NaN\n"
          ]
        }
      ]
    },
    {
      "cell_type": "markdown",
      "source": [
        "- 결과 해석\n",
        "\n",
        "1. gear가 3인 집단은 4와 5에 비해서 배기량 평균 차이가 확연하게 드러남\n",
        "2. gear가 5인 집단보다 4인 집단과의 배기량 차이가 더 유의한 차이를 보임"
      ],
      "metadata": {
        "id": "bWQqX9pAvfZ0"
      }
    },
    {
      "cell_type": "markdown",
      "source": [
        "## 크루스칼 왈리스 검정 (비모수적 방법)\n",
        "평균 대신 중앙값을 이용하여 진행\n",
        "\n",
        "일원배치 분산 분석을 진행할 때 정규성 검정을 만족하지 않을때는 크루스칼 왈리스 검정을 진행\n",
        "\n",
        "측정값은 대소 비교가 가능한 변수여야하고 독립이라는 가정이 있음\n",
        "\n",
        "- 귀무가설 : 모든 집단의 중앙값이 같다\n",
        "- 대립가설 : 적어도 하나의 집단에서 다른 중앙값이 나타난다."
      ],
      "metadata": {
        "id": "uEAV_gQ6lzGw"
      }
    },
    {
      "cell_type": "code",
      "source": [
        "import pandas as pd\n",
        "from sklearn.datasets import load_iris\n",
        "iris = load_iris()\n",
        "df = pd.DataFrame(data=iris.data, columns = iris.feature_names)\n",
        "df['class'] = iris.target\n",
        "df['class'] = df['class'].map({0:\"Setosa\",1:\"Versicolor\",2:\"Virginica\"})\n",
        "df.head()"
      ],
      "metadata": {
        "colab": {
          "base_uri": "https://localhost:8080/",
          "height": 206
        },
        "id": "xZzvOh8FnFSL",
        "outputId": "4d0e6eea-57a0-43b0-d6ee-a0c31521f4a0"
      },
      "execution_count": 7,
      "outputs": [
        {
          "output_type": "execute_result",
          "data": {
            "text/plain": [
              "   sepal length (cm)  sepal width (cm)  ...  petal width (cm)   class\n",
              "0                5.1               3.5  ...               0.2  Setosa\n",
              "1                4.9               3.0  ...               0.2  Setosa\n",
              "2                4.7               3.2  ...               0.2  Setosa\n",
              "3                4.6               3.1  ...               0.2  Setosa\n",
              "4                5.0               3.6  ...               0.2  Setosa\n",
              "\n",
              "[5 rows x 5 columns]"
            ],
            "text/html": [
              "\n",
              "  <div id=\"df-1b895bc7-5c4c-41c7-82c7-000b57e80a4d\" class=\"colab-df-container\">\n",
              "    <div>\n",
              "<style scoped>\n",
              "    .dataframe tbody tr th:only-of-type {\n",
              "        vertical-align: middle;\n",
              "    }\n",
              "\n",
              "    .dataframe tbody tr th {\n",
              "        vertical-align: top;\n",
              "    }\n",
              "\n",
              "    .dataframe thead th {\n",
              "        text-align: right;\n",
              "    }\n",
              "</style>\n",
              "<table border=\"1\" class=\"dataframe\">\n",
              "  <thead>\n",
              "    <tr style=\"text-align: right;\">\n",
              "      <th></th>\n",
              "      <th>sepal length (cm)</th>\n",
              "      <th>sepal width (cm)</th>\n",
              "      <th>petal length (cm)</th>\n",
              "      <th>petal width (cm)</th>\n",
              "      <th>class</th>\n",
              "    </tr>\n",
              "  </thead>\n",
              "  <tbody>\n",
              "    <tr>\n",
              "      <th>0</th>\n",
              "      <td>5.1</td>\n",
              "      <td>3.5</td>\n",
              "      <td>1.4</td>\n",
              "      <td>0.2</td>\n",
              "      <td>Setosa</td>\n",
              "    </tr>\n",
              "    <tr>\n",
              "      <th>1</th>\n",
              "      <td>4.9</td>\n",
              "      <td>3.0</td>\n",
              "      <td>1.4</td>\n",
              "      <td>0.2</td>\n",
              "      <td>Setosa</td>\n",
              "    </tr>\n",
              "    <tr>\n",
              "      <th>2</th>\n",
              "      <td>4.7</td>\n",
              "      <td>3.2</td>\n",
              "      <td>1.3</td>\n",
              "      <td>0.2</td>\n",
              "      <td>Setosa</td>\n",
              "    </tr>\n",
              "    <tr>\n",
              "      <th>3</th>\n",
              "      <td>4.6</td>\n",
              "      <td>3.1</td>\n",
              "      <td>1.5</td>\n",
              "      <td>0.2</td>\n",
              "      <td>Setosa</td>\n",
              "    </tr>\n",
              "    <tr>\n",
              "      <th>4</th>\n",
              "      <td>5.0</td>\n",
              "      <td>3.6</td>\n",
              "      <td>1.4</td>\n",
              "      <td>0.2</td>\n",
              "      <td>Setosa</td>\n",
              "    </tr>\n",
              "  </tbody>\n",
              "</table>\n",
              "</div>\n",
              "    <div class=\"colab-df-buttons\">\n",
              "\n",
              "  <div class=\"colab-df-container\">\n",
              "    <button class=\"colab-df-convert\" onclick=\"convertToInteractive('df-1b895bc7-5c4c-41c7-82c7-000b57e80a4d')\"\n",
              "            title=\"Convert this dataframe to an interactive table.\"\n",
              "            style=\"display:none;\">\n",
              "\n",
              "  <svg xmlns=\"http://www.w3.org/2000/svg\" height=\"24px\" viewBox=\"0 -960 960 960\">\n",
              "    <path d=\"M120-120v-720h720v720H120Zm60-500h600v-160H180v160Zm220 220h160v-160H400v160Zm0 220h160v-160H400v160ZM180-400h160v-160H180v160Zm440 0h160v-160H620v160ZM180-180h160v-160H180v160Zm440 0h160v-160H620v160Z\"/>\n",
              "  </svg>\n",
              "    </button>\n",
              "\n",
              "  <style>\n",
              "    .colab-df-container {\n",
              "      display:flex;\n",
              "      gap: 12px;\n",
              "    }\n",
              "\n",
              "    .colab-df-convert {\n",
              "      background-color: #E8F0FE;\n",
              "      border: none;\n",
              "      border-radius: 50%;\n",
              "      cursor: pointer;\n",
              "      display: none;\n",
              "      fill: #1967D2;\n",
              "      height: 32px;\n",
              "      padding: 0 0 0 0;\n",
              "      width: 32px;\n",
              "    }\n",
              "\n",
              "    .colab-df-convert:hover {\n",
              "      background-color: #E2EBFA;\n",
              "      box-shadow: 0px 1px 2px rgba(60, 64, 67, 0.3), 0px 1px 3px 1px rgba(60, 64, 67, 0.15);\n",
              "      fill: #174EA6;\n",
              "    }\n",
              "\n",
              "    .colab-df-buttons div {\n",
              "      margin-bottom: 4px;\n",
              "    }\n",
              "\n",
              "    [theme=dark] .colab-df-convert {\n",
              "      background-color: #3B4455;\n",
              "      fill: #D2E3FC;\n",
              "    }\n",
              "\n",
              "    [theme=dark] .colab-df-convert:hover {\n",
              "      background-color: #434B5C;\n",
              "      box-shadow: 0px 1px 3px 1px rgba(0, 0, 0, 0.15);\n",
              "      filter: drop-shadow(0px 1px 2px rgba(0, 0, 0, 0.3));\n",
              "      fill: #FFFFFF;\n",
              "    }\n",
              "  </style>\n",
              "\n",
              "    <script>\n",
              "      const buttonEl =\n",
              "        document.querySelector('#df-1b895bc7-5c4c-41c7-82c7-000b57e80a4d button.colab-df-convert');\n",
              "      buttonEl.style.display =\n",
              "        google.colab.kernel.accessAllowed ? 'block' : 'none';\n",
              "\n",
              "      async function convertToInteractive(key) {\n",
              "        const element = document.querySelector('#df-1b895bc7-5c4c-41c7-82c7-000b57e80a4d');\n",
              "        const dataTable =\n",
              "          await google.colab.kernel.invokeFunction('convertToInteractive',\n",
              "                                                    [key], {});\n",
              "        if (!dataTable) return;\n",
              "\n",
              "        const docLinkHtml = 'Like what you see? Visit the ' +\n",
              "          '<a target=\"_blank\" href=https://colab.research.google.com/notebooks/data_table.ipynb>data table notebook</a>'\n",
              "          + ' to learn more about interactive tables.';\n",
              "        element.innerHTML = '';\n",
              "        dataTable['output_type'] = 'display_data';\n",
              "        await google.colab.output.renderOutput(dataTable, element);\n",
              "        const docLink = document.createElement('div');\n",
              "        docLink.innerHTML = docLinkHtml;\n",
              "        element.appendChild(docLink);\n",
              "      }\n",
              "    </script>\n",
              "  </div>\n",
              "\n",
              "\n",
              "    <div id=\"df-2d2b56db-3aa0-44ef-bda8-0362f48e1543\">\n",
              "      <button class=\"colab-df-quickchart\" onclick=\"quickchart('df-2d2b56db-3aa0-44ef-bda8-0362f48e1543')\"\n",
              "                title=\"Suggest charts\"\n",
              "                style=\"display:none;\">\n",
              "\n",
              "<svg xmlns=\"http://www.w3.org/2000/svg\" height=\"24px\"viewBox=\"0 0 24 24\"\n",
              "     width=\"24px\">\n",
              "    <g>\n",
              "        <path d=\"M19 3H5c-1.1 0-2 .9-2 2v14c0 1.1.9 2 2 2h14c1.1 0 2-.9 2-2V5c0-1.1-.9-2-2-2zM9 17H7v-7h2v7zm4 0h-2V7h2v10zm4 0h-2v-4h2v4z\"/>\n",
              "    </g>\n",
              "</svg>\n",
              "      </button>\n",
              "\n",
              "<style>\n",
              "  .colab-df-quickchart {\n",
              "      --bg-color: #E8F0FE;\n",
              "      --fill-color: #1967D2;\n",
              "      --hover-bg-color: #E2EBFA;\n",
              "      --hover-fill-color: #174EA6;\n",
              "      --disabled-fill-color: #AAA;\n",
              "      --disabled-bg-color: #DDD;\n",
              "  }\n",
              "\n",
              "  [theme=dark] .colab-df-quickchart {\n",
              "      --bg-color: #3B4455;\n",
              "      --fill-color: #D2E3FC;\n",
              "      --hover-bg-color: #434B5C;\n",
              "      --hover-fill-color: #FFFFFF;\n",
              "      --disabled-bg-color: #3B4455;\n",
              "      --disabled-fill-color: #666;\n",
              "  }\n",
              "\n",
              "  .colab-df-quickchart {\n",
              "    background-color: var(--bg-color);\n",
              "    border: none;\n",
              "    border-radius: 50%;\n",
              "    cursor: pointer;\n",
              "    display: none;\n",
              "    fill: var(--fill-color);\n",
              "    height: 32px;\n",
              "    padding: 0;\n",
              "    width: 32px;\n",
              "  }\n",
              "\n",
              "  .colab-df-quickchart:hover {\n",
              "    background-color: var(--hover-bg-color);\n",
              "    box-shadow: 0 1px 2px rgba(60, 64, 67, 0.3), 0 1px 3px 1px rgba(60, 64, 67, 0.15);\n",
              "    fill: var(--button-hover-fill-color);\n",
              "  }\n",
              "\n",
              "  .colab-df-quickchart-complete:disabled,\n",
              "  .colab-df-quickchart-complete:disabled:hover {\n",
              "    background-color: var(--disabled-bg-color);\n",
              "    fill: var(--disabled-fill-color);\n",
              "    box-shadow: none;\n",
              "  }\n",
              "\n",
              "  .colab-df-spinner {\n",
              "    border: 2px solid var(--fill-color);\n",
              "    border-color: transparent;\n",
              "    border-bottom-color: var(--fill-color);\n",
              "    animation:\n",
              "      spin 1s steps(1) infinite;\n",
              "  }\n",
              "\n",
              "  @keyframes spin {\n",
              "    0% {\n",
              "      border-color: transparent;\n",
              "      border-bottom-color: var(--fill-color);\n",
              "      border-left-color: var(--fill-color);\n",
              "    }\n",
              "    20% {\n",
              "      border-color: transparent;\n",
              "      border-left-color: var(--fill-color);\n",
              "      border-top-color: var(--fill-color);\n",
              "    }\n",
              "    30% {\n",
              "      border-color: transparent;\n",
              "      border-left-color: var(--fill-color);\n",
              "      border-top-color: var(--fill-color);\n",
              "      border-right-color: var(--fill-color);\n",
              "    }\n",
              "    40% {\n",
              "      border-color: transparent;\n",
              "      border-right-color: var(--fill-color);\n",
              "      border-top-color: var(--fill-color);\n",
              "    }\n",
              "    60% {\n",
              "      border-color: transparent;\n",
              "      border-right-color: var(--fill-color);\n",
              "    }\n",
              "    80% {\n",
              "      border-color: transparent;\n",
              "      border-right-color: var(--fill-color);\n",
              "      border-bottom-color: var(--fill-color);\n",
              "    }\n",
              "    90% {\n",
              "      border-color: transparent;\n",
              "      border-bottom-color: var(--fill-color);\n",
              "    }\n",
              "  }\n",
              "</style>\n",
              "\n",
              "      <script>\n",
              "        async function quickchart(key) {\n",
              "          const quickchartButtonEl =\n",
              "            document.querySelector('#' + key + ' button');\n",
              "          quickchartButtonEl.disabled = true;  // To prevent multiple clicks.\n",
              "          quickchartButtonEl.classList.add('colab-df-spinner');\n",
              "          try {\n",
              "            const charts = await google.colab.kernel.invokeFunction(\n",
              "                'suggestCharts', [key], {});\n",
              "          } catch (error) {\n",
              "            console.error('Error during call to suggestCharts:', error);\n",
              "          }\n",
              "          quickchartButtonEl.classList.remove('colab-df-spinner');\n",
              "          quickchartButtonEl.classList.add('colab-df-quickchart-complete');\n",
              "        }\n",
              "        (() => {\n",
              "          let quickchartButtonEl =\n",
              "            document.querySelector('#df-2d2b56db-3aa0-44ef-bda8-0362f48e1543 button');\n",
              "          quickchartButtonEl.style.display =\n",
              "            google.colab.kernel.accessAllowed ? 'block' : 'none';\n",
              "        })();\n",
              "      </script>\n",
              "    </div>\n",
              "\n",
              "    </div>\n",
              "  </div>\n"
            ],
            "application/vnd.google.colaboratory.intrinsic+json": {
              "type": "dataframe",
              "variable_name": "df",
              "summary": "{\n  \"name\": \"df\",\n  \"rows\": 150,\n  \"fields\": [\n    {\n      \"column\": \"sepal length (cm)\",\n      \"properties\": {\n        \"dtype\": \"number\",\n        \"std\": 0.8280661279778629,\n        \"min\": 4.3,\n        \"max\": 7.9,\n        \"num_unique_values\": 35,\n        \"samples\": [\n          6.2,\n          4.5,\n          5.6\n        ],\n        \"semantic_type\": \"\",\n        \"description\": \"\"\n      }\n    },\n    {\n      \"column\": \"sepal width (cm)\",\n      \"properties\": {\n        \"dtype\": \"number\",\n        \"std\": 0.435866284936698,\n        \"min\": 2.0,\n        \"max\": 4.4,\n        \"num_unique_values\": 23,\n        \"samples\": [\n          2.3,\n          4.0,\n          3.5\n        ],\n        \"semantic_type\": \"\",\n        \"description\": \"\"\n      }\n    },\n    {\n      \"column\": \"petal length (cm)\",\n      \"properties\": {\n        \"dtype\": \"number\",\n        \"std\": 1.7652982332594667,\n        \"min\": 1.0,\n        \"max\": 6.9,\n        \"num_unique_values\": 43,\n        \"samples\": [\n          6.7,\n          3.8,\n          3.7\n        ],\n        \"semantic_type\": \"\",\n        \"description\": \"\"\n      }\n    },\n    {\n      \"column\": \"petal width (cm)\",\n      \"properties\": {\n        \"dtype\": \"number\",\n        \"std\": 0.7622376689603465,\n        \"min\": 0.1,\n        \"max\": 2.5,\n        \"num_unique_values\": 22,\n        \"samples\": [\n          0.2,\n          1.2,\n          1.3\n        ],\n        \"semantic_type\": \"\",\n        \"description\": \"\"\n      }\n    },\n    {\n      \"column\": \"class\",\n      \"properties\": {\n        \"dtype\": \"category\",\n        \"num_unique_values\": 3,\n        \"samples\": [\n          \"Setosa\",\n          \"Versicolor\",\n          \"Virginica\"\n        ],\n        \"semantic_type\": \"\",\n        \"description\": \"\"\n      }\n    }\n  ]\n}"
            }
          },
          "metadata": {},
          "execution_count": 7
        }
      ]
    },
    {
      "cell_type": "code",
      "source": [
        "# class 집단 별로 sepal length 정규성을 만족하는지 확인\n",
        "from scipy.stats import shapiro, bartlett\n",
        "\n",
        "# 정규성 확인\n",
        "Setosa_petal_width = df.loc[df['class']=='Setosa',\"petal width (cm)\"]\n",
        "Versicolor_petal_width = df.loc[df['class']=='Versicolor',\"petal width (cm)\"]\n",
        "Virginica_petal_width = df.loc[df['class']=='Virginica',\"petal width (cm)\"]\n",
        "print(f\"setosa p-value : {shapiro(Setosa_petal_width)[1]}\")\n",
        "print(f\"versicolor p-value : {shapiro(Versicolor_petal_width)[1]}\")\n",
        "print(f\"virginica p-value : {shapiro(Virginica_petal_width)[1]}\")"
      ],
      "metadata": {
        "colab": {
          "base_uri": "https://localhost:8080/"
        },
        "id": "y8sOPO0cnnoc",
        "outputId": "7bd9b83c-6c54-4d00-e47e-4a93ba5d4449"
      },
      "execution_count": 17,
      "outputs": [
        {
          "output_type": "stream",
          "name": "stdout",
          "text": [
            "setosa p-value : 8.658572739428681e-07\n",
            "versicolor p-value : 0.027277803876105258\n",
            "virginica p-value : 0.0869541872909336\n"
          ]
        }
      ]
    },
    {
      "cell_type": "markdown",
      "source": [
        "- 유의수준 5%에서 setosa, versicolor는 정규성을 만족하지 못한다는 것을 알 수 있음\n",
        "- 따라서, 모수 검정방법인 ANOVA 대신 크루스칼-왈리스 검정을 진행"
      ],
      "metadata": {
        "id": "EeZovW6d8Vrc"
      }
    },
    {
      "cell_type": "code",
      "source": [
        "from scipy.stats import kruskal\n",
        "\n",
        "result = kruskal(Setosa_petal_width, Versicolor_petal_width, Virginica_petal_width)\n",
        "print(f\"p_value : {result[1]:.4f}\")"
      ],
      "metadata": {
        "colab": {
          "base_uri": "https://localhost:8080/"
        },
        "id": "chznlrdP8Upw",
        "outputId": "74f35555-2a1e-43b9-aa65-edd4dbaf80c6"
      },
      "execution_count": 21,
      "outputs": [
        {
          "output_type": "stream",
          "name": "stdout",
          "text": [
            "p_value : 0.0000\n"
          ]
        }
      ]
    },
    {
      "cell_type": "markdown",
      "source": [
        "- 유의수준 5%에서 귀무가설을 기각하게 되어 집단별로 중앙값의 차이가 있음을 확인할 수 있다"
      ],
      "metadata": {
        "id": "OqnQtY0c-TuJ"
      }
    }
  ]
}